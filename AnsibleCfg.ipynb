{
 "cells": [
  {
   "cell_type": "markdown",
   "metadata": {},
   "source": [
    "# Hello World Playbook With Inventory and Ansible.cfg\n",
    "* Defines an ansible.cfg \n",
    "* Defines an inventory\n",
    "* Defines a play\n",
    "* Defines a task\n",
    "\n",
    "* Press shift-enter four times to run the play and task"
   ]
  },
  {
   "cell_type": "code",
   "execution_count": 1,
   "metadata": {},
   "outputs": [],
   "source": [
    "#ansible.cfg\n",
    "[defaults]\n",
    "host_key_checking=False"
   ]
  },
  {
   "cell_type": "code",
   "execution_count": 2,
   "metadata": {},
   "outputs": [],
   "source": [
    "#inventory\n",
    "[all]\n",
    "localhost ansible_connection=local"
   ]
  },
  {
   "cell_type": "code",
   "execution_count": 3,
   "metadata": {},
   "outputs": [
    {
     "name": "stdout",
     "output_type": "stream",
     "text": [
      "\n"
     ]
    }
   ],
   "source": [
    "#play\n",
    "name: hello world\n",
    "hosts: localhost\n",
    "gather_facts: false"
   ]
  },
  {
   "cell_type": "code",
   "execution_count": 1,
   "metadata": {},
   "outputs": [
    {
     "name": "stdout",
     "output_type": "stream",
     "text": [
      "{'counter': 12,\n",
      " 'created': '2021-05-31T23:05:04.477140',\n",
      " 'end_line': 12,\n",
      " 'event': 'runner_on_start',\n",
      " 'event_data': {'host': 'localhost',\n",
      "                'play': 'default',\n",
      "                'play_pattern': 'localhost',\n",
      "                'play_uuid': 'c417fe17-f6e3-28d5-0e65-000000000006',\n",
      "                'playbook': 'playbook.yml',\n",
      "                'playbook_uuid': '6702df1c-e6c3-48ae-b7d5-119e3aa830cc',\n",
      "                'task': 'include_vars',\n",
      "                'task_action': 'include_vars',\n",
      "                'task_args': '',\n",
      "                'task_path': '/tmp/ansible_kernel_playbook9j2npu2q/project/playbook.yml:11',\n",
      "                'task_uuid': 'c417fe17-f6e3-28d5-0e65-00000000000c',\n",
      "                'uuid': 'c2936b9c-ffe9-4502-8de5-814b4828d504'},\n",
      " 'parent_uuid': 'c417fe17-f6e3-28d5-0e65-00000000000c',\n",
      " 'pid': 21086,\n",
      " 'runner_ident': '198c7702-226d-4de9-a204-7c20ee77e091',\n",
      " 'start_line': 12,\n",
      " 'stdout': '',\n",
      " 'uuid': 'c2936b9c-ffe9-4502-8de5-814b4828d504'}\n",
      "{'counter': 15,\n",
      " 'created': '2021-05-31T23:05:04.531384',\n",
      " 'end_line': 15,\n",
      " 'event': 'runner_on_start',\n",
      " 'event_data': {'host': 'localhost',\n",
      "                'play': 'default',\n",
      "                'play_pattern': 'localhost',\n",
      "                'play_uuid': 'c417fe17-f6e3-28d5-0e65-000000000006',\n",
      "                'playbook': 'playbook.yml',\n",
      "                'playbook_uuid': '6702df1c-e6c3-48ae-b7d5-119e3aa830cc',\n",
      "                'task': 'include_tasks',\n",
      "                'task_action': 'include_tasks',\n",
      "                'task_args': '',\n",
      "                'task_path': '/tmp/ansible_kernel_playbook9j2npu2q/project/playbook.yml:13',\n",
      "                'task_uuid': 'c417fe17-f6e3-28d5-0e65-00000000000d',\n",
      "                'uuid': '6c5cb781-9e0a-44f7-8943-e4fa2f7210e0'},\n",
      " 'parent_uuid': 'c417fe17-f6e3-28d5-0e65-00000000000d',\n",
      " 'pid': 21086,\n",
      " 'runner_ident': '198c7702-226d-4de9-a204-7c20ee77e091',\n",
      " 'start_line': 15,\n",
      " 'stdout': '',\n",
      " 'uuid': '6c5cb781-9e0a-44f7-8943-e4fa2f7210e0'}\n",
      "TASK [debug] *******************************************************************\n",
      "{'counter': 19,\n",
      " 'created': '2021-05-31T23:05:04.599013',\n",
      " 'end_line': 18,\n",
      " 'event': 'runner_on_start',\n",
      " 'event_data': {'host': 'localhost',\n",
      "                'play': 'default',\n",
      "                'play_pattern': 'localhost',\n",
      "                'play_uuid': 'c417fe17-f6e3-28d5-0e65-000000000006',\n",
      "                'playbook': 'playbook.yml',\n",
      "                'playbook_uuid': '6702df1c-e6c3-48ae-b7d5-119e3aa830cc',\n",
      "                'task': 'debug',\n",
      "                'task_action': 'debug',\n",
      "                'task_args': '',\n",
      "                'task_path': '/tmp/ansible_kernel_playbook9j2npu2q/project/next_task0.yml:1',\n",
      "                'task_uuid': 'c417fe17-f6e3-28d5-0e65-000000000026',\n",
      "                'uuid': '29d5e2e3-86fb-4aeb-9b4c-210d176986c8'},\n",
      " 'parent_uuid': 'c417fe17-f6e3-28d5-0e65-000000000026',\n",
      " 'pid': 21086,\n",
      " 'runner_ident': '198c7702-226d-4de9-a204-7c20ee77e091',\n",
      " 'start_line': 18,\n",
      " 'stdout': '',\n",
      " 'uuid': '29d5e2e3-86fb-4aeb-9b4c-210d176986c8'}\n",
      "ok: [localhost] => {\n",
      "    \"msg\": \"Hello World\"\n",
      "}\n"
     ]
    },
    {
     "name": "stderr",
     "output_type": "stream",
     "text": [
      "/home/boxer/repos/devops-gihub/venv/lib/python3.6/site-packages/ansible_kernel/kernel.py:757: YAMLLoadWarning: calling yaml.load() without Loader=... is deprecated, as the default Loader is unsafe. Please read https://msg.pyyaml.org/load for full details.\n",
      "  code_data = yaml.load(code)\n",
      "/home/boxer/repos/devops-gihub/venv/lib/python3.6/site-packages/ansible_kernel/kernel.py:814: YAMLLoadWarning: calling yaml.load() without Loader=... is deprecated, as the default Loader is unsafe. Please read https://msg.pyyaml.org/load for full details.\n",
      "  current_task_data = yaml.load(self.current_task)\n"
     ]
    },
    {
     "name": "stdout",
     "output_type": "stream",
     "text": [
      "{'counter': 22,\n",
      " 'created': '2021-05-31T23:05:04.653614',\n",
      " 'end_line': 23,\n",
      " 'event': 'runner_on_start',\n",
      " 'event_data': {'host': 'localhost',\n",
      "                'play': 'default',\n",
      "                'play_pattern': 'localhost',\n",
      "                'play_uuid': 'c417fe17-f6e3-28d5-0e65-000000000006',\n",
      "                'playbook': 'playbook.yml',\n",
      "                'playbook_uuid': '6702df1c-e6c3-48ae-b7d5-119e3aa830cc',\n",
      "                'task': 'pause_for_kernel',\n",
      "                'task_action': 'pause_for_kernel',\n",
      "                'task_args': '',\n",
      "                'task_path': '/tmp/ansible_kernel_playbook9j2npu2q/project/next_task0.yml:4',\n",
      "                'task_uuid': 'c417fe17-f6e3-28d5-0e65-000000000027',\n",
      "                'uuid': 'e2e61239-9a2e-4dda-a55b-957204a433c4'},\n",
      " 'parent_uuid': 'c417fe17-f6e3-28d5-0e65-000000000027',\n",
      " 'pid': 21086,\n",
      " 'runner_ident': '198c7702-226d-4de9-a204-7c20ee77e091',\n",
      " 'start_line': 23,\n",
      " 'stdout': '',\n",
      " 'uuid': 'e2e61239-9a2e-4dda-a55b-957204a433c4'}\n"
     ]
    }
   ],
   "source": [
    "#task\n",
    "debug:\n",
    " msg: Hello World"
   ]
  },
  {
   "cell_type": "code",
   "execution_count": 5,
   "metadata": {},
   "outputs": [
    {
     "name": "stdout",
     "output_type": "stream",
     "text": [
      "TASK [ping] ********************************************************************\n",
      "ok: [localhost] => {\"ping\": \"pong\"}\n"
     ]
    }
   ],
   "source": [
    "ping:"
   ]
  },
  {
   "cell_type": "code",
   "execution_count": null,
   "metadata": {},
   "outputs": [],
   "source": []
  }
 ],
 "metadata": {
  "kernelspec": {
   "display_name": "Ansible",
   "language": "ansible",
   "name": "ansible"
  },
  "language_info": {
   "codemirror_mode": "yaml",
   "file_extension": ".yml",
   "mimetype": "text/yaml",
   "name": "ansible"
  }
 },
 "nbformat": 4,
 "nbformat_minor": 2
}
